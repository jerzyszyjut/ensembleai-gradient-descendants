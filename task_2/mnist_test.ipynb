{
 "cells": [
  {
   "cell_type": "code",
   "execution_count": 1,
   "metadata": {},
   "outputs": [],
   "source": [
    "import torch\n",
    "from torch.utils.data import Dataset\n",
    "\n",
    "\n",
    "class MyDataset(Dataset):\n",
    "    def __init__(self, feature, target=None, transform=None):\n",
    "\n",
    "        self.X = feature\n",
    "        self.Y = target\n",
    "        self.transform = transform\n",
    "\n",
    "    def __len__(self):\n",
    "        return len(self.X)\n",
    "\n",
    "    def __getitem__(self, idx):\n",
    "        if self.transform is not None:\n",
    "            return self.transform(self.X[idx]), self.Y[idx]\n",
    "        elif self.Y is None:\n",
    "            return [self.X[idx]]\n",
    "        return self.X[idx], self.Y[idx]"
   ]
  },
  {
   "cell_type": "code",
   "execution_count": 2,
   "metadata": {},
   "outputs": [],
   "source": [
    "import pandas as pd\n",
    "from sklearn.model_selection import train_test_split\n",
    "\n",
    "\n",
    "train_data_dir = \"./train.csv\"\n",
    "\n",
    "# load data\n",
    "train = pd.read_csv(train_data_dir)\n",
    "\n",
    "raw_train_labels = train[\"label\"]\n",
    "raw_train_imgs = train.drop(labels = [\"label\"], axis = 1)\n",
    "\n",
    "# normalize data\n",
    "normalized_train = raw_train_imgs/255.0\n",
    "\n",
    "# split data into train and validation\n",
    "train_split, validation_split, train_labels_split, validation_labels_split = train_test_split(normalized_train, raw_train_labels, random_state=0)\n",
    "\n",
    "# data reshape\n",
    "train_data = torch.from_numpy(train_split.values.reshape((-1,1,28,28)))\n",
    "train_labels_data =  torch.from_numpy(train_labels_split.values)\n",
    "\n",
    "# make data loader\n",
    "train_set = MyDataset(train_data.float(), train_labels_data)\n",
    "batch_size = 128\n",
    "train_loader = torch.utils.data.DataLoader(train_set, batch_size = batch_size, shuffle = False)"
   ]
  },
  {
   "cell_type": "code",
   "execution_count": 3,
   "metadata": {},
   "outputs": [
    {
     "name": "stderr",
     "output_type": "stream",
     "text": [
      "/home/ubuntu/miniconda3/envs/hack/lib/python3.11/site-packages/torchvision/models/_utils.py:208: UserWarning: The parameter 'pretrained' is deprecated since 0.13 and may be removed in the future, please use 'weights' instead.\n",
      "  warnings.warn(\n",
      "/home/ubuntu/miniconda3/envs/hack/lib/python3.11/site-packages/torchvision/models/_utils.py:223: UserWarning: Arguments other than a weight enum or `None` for 'weights' are deprecated since 0.13 and may be removed in the future. The current behavior is equivalent to passing `weights=ResNet18_Weights.IMAGENET1K_V1`. You can also use `weights=ResNet18_Weights.DEFAULT` to get the most up-to-date weights.\n",
      "  warnings.warn(msg)\n"
     ]
    }
   ],
   "source": [
    "from torchvision import models\n",
    "from torch import nn\n",
    "import torch.nn.functional as F\n",
    "\n",
    "\n",
    "stolen_model = models.resnet18(pretrained=True)\n",
    "stolen_model.conv1 = nn.Conv2d(1, 64, kernel_size=(7, 7), stride=(2, 2), padding=(3, 3), bias=False)\n",
    "num_ftrs = stolen_model.fc.in_features\n",
    "stolen_model.fc = nn.Linear(num_ftrs, 10)\n",
    "stolen_model = torch.nn.Sequential(*(list(stolen_model.children())[:-1]))\n",
    "victim_model = torch.load('models/mnist_model.pt', weights_only=False)\n",
    "victim_model = torch.nn.Sequential(*(list(victim_model.children())[:-1]))"
   ]
  },
  {
   "cell_type": "code",
   "execution_count": 4,
   "metadata": {},
   "outputs": [],
   "source": [
    "stolen_model.to('cuda')\n",
    "victim_model.to('cuda')\n",
    "\n",
    "optimizer = torch.optim.SGD(stolen_model.parameters(), lr=0.001)\n",
    "loss_fn = torch.nn.MSELoss()"
   ]
  },
  {
   "cell_type": "code",
   "execution_count": 12,
   "metadata": {},
   "outputs": [
    {
     "name": "stdout",
     "output_type": "stream",
     "text": [
      "Epoch 1, loss: 0.6746327992875566\n",
      "Epoch 2, loss: 0.6204418354188865\n",
      "Epoch 3, loss: 0.5787805572212467\n",
      "Epoch 4, loss: 0.5400721738454302\n",
      "Epoch 5, loss: 0.5008048836277564\n",
      "Epoch 6, loss: 0.45881997959816506\n",
      "Epoch 7, loss: 0.41426604793139316\n",
      "Epoch 8, loss: 0.3751444326721222\n",
      "Epoch 9, loss: 0.34196930858287733\n",
      "Epoch 10, loss: 0.3162383397339809\n",
      "Epoch 11, loss: 0.29532204640780385\n",
      "Epoch 12, loss: 0.2783585972631509\n",
      "Epoch 13, loss: 0.26508263839401214\n",
      "Epoch 14, loss: 0.25419704959942746\n",
      "Epoch 15, loss: 0.2447540647225824\n",
      "Epoch 16, loss: 0.23677406197617412\n",
      "Epoch 17, loss: 0.23001431471664413\n",
      "Epoch 18, loss: 0.2243318046152833\n",
      "Epoch 19, loss: 0.2192950643267226\n",
      "Epoch 20, loss: 0.2147028267021604\n",
      "Epoch 21, loss: 0.21035087404222141\n",
      "Epoch 22, loss: 0.20682724127885302\n",
      "Epoch 23, loss: 0.20360953206958077\n",
      "Epoch 24, loss: 0.19897883279844816\n",
      "Epoch 25, loss: 0.19569928503712178\n",
      "Epoch 26, loss: 0.19281283551864778\n",
      "Epoch 27, loss: 0.1901922063668247\n",
      "Epoch 28, loss: 0.18784450989985754\n",
      "Epoch 29, loss: 0.1855071421094269\n",
      "Epoch 30, loss: 0.1833569709106013\n",
      "Epoch 31, loss: 0.18141142885211992\n",
      "Epoch 32, loss: 0.17957040531794552\n",
      "Epoch 33, loss: 0.17773369030069244\n",
      "Epoch 34, loss: 0.17601644618791124\n",
      "Epoch 35, loss: 0.17417672722928437\n",
      "Epoch 36, loss: 0.1724606861590374\n",
      "Epoch 37, loss: 0.17077913077977988\n"
     ]
    },
    {
     "ename": "KeyboardInterrupt",
     "evalue": "",
     "output_type": "error",
     "traceback": [
      "\u001b[31m---------------------------------------------------------------------------\u001b[39m",
      "\u001b[31mKeyboardInterrupt\u001b[39m                         Traceback (most recent call last)",
      "\u001b[36mCell\u001b[39m\u001b[36m \u001b[39m\u001b[32mIn[12]\u001b[39m\u001b[32m, line 29\u001b[39m\n\u001b[32m     27\u001b[39m    loss = loss_fn(output_for_stolen, output_for_victim)\n\u001b[32m     28\u001b[39m \u001b[38;5;66;03m#   loss.requires_grad = True\u001b[39;00m\n\u001b[32m---> \u001b[39m\u001b[32m29\u001b[39m    \u001b[43mloss\u001b[49m\u001b[43m.\u001b[49m\u001b[43mbackward\u001b[49m\u001b[43m(\u001b[49m\u001b[43m)\u001b[49m\n\u001b[32m     30\u001b[39m    optimizer.step()\n\u001b[32m     31\u001b[39m    total_loss += loss.item()\n",
      "\u001b[36mFile \u001b[39m\u001b[32m~/miniconda3/envs/hack/lib/python3.11/site-packages/torch/_tensor.py:626\u001b[39m, in \u001b[36mTensor.backward\u001b[39m\u001b[34m(self, gradient, retain_graph, create_graph, inputs)\u001b[39m\n\u001b[32m    616\u001b[39m \u001b[38;5;28;01mif\u001b[39;00m has_torch_function_unary(\u001b[38;5;28mself\u001b[39m):\n\u001b[32m    617\u001b[39m     \u001b[38;5;28;01mreturn\u001b[39;00m handle_torch_function(\n\u001b[32m    618\u001b[39m         Tensor.backward,\n\u001b[32m    619\u001b[39m         (\u001b[38;5;28mself\u001b[39m,),\n\u001b[32m   (...)\u001b[39m\u001b[32m    624\u001b[39m         inputs=inputs,\n\u001b[32m    625\u001b[39m     )\n\u001b[32m--> \u001b[39m\u001b[32m626\u001b[39m \u001b[43mtorch\u001b[49m\u001b[43m.\u001b[49m\u001b[43mautograd\u001b[49m\u001b[43m.\u001b[49m\u001b[43mbackward\u001b[49m\u001b[43m(\u001b[49m\n\u001b[32m    627\u001b[39m \u001b[43m    \u001b[49m\u001b[38;5;28;43mself\u001b[39;49m\u001b[43m,\u001b[49m\u001b[43m \u001b[49m\u001b[43mgradient\u001b[49m\u001b[43m,\u001b[49m\u001b[43m \u001b[49m\u001b[43mretain_graph\u001b[49m\u001b[43m,\u001b[49m\u001b[43m \u001b[49m\u001b[43mcreate_graph\u001b[49m\u001b[43m,\u001b[49m\u001b[43m \u001b[49m\u001b[43minputs\u001b[49m\u001b[43m=\u001b[49m\u001b[43minputs\u001b[49m\n\u001b[32m    628\u001b[39m \u001b[43m\u001b[49m\u001b[43m)\u001b[49m\n",
      "\u001b[36mFile \u001b[39m\u001b[32m~/miniconda3/envs/hack/lib/python3.11/site-packages/torch/autograd/__init__.py:347\u001b[39m, in \u001b[36mbackward\u001b[39m\u001b[34m(tensors, grad_tensors, retain_graph, create_graph, grad_variables, inputs)\u001b[39m\n\u001b[32m    342\u001b[39m     retain_graph = create_graph\n\u001b[32m    344\u001b[39m \u001b[38;5;66;03m# The reason we repeat the same comment below is that\u001b[39;00m\n\u001b[32m    345\u001b[39m \u001b[38;5;66;03m# some Python versions print out the first line of a multi-line function\u001b[39;00m\n\u001b[32m    346\u001b[39m \u001b[38;5;66;03m# calls in the traceback and some print out the last line\u001b[39;00m\n\u001b[32m--> \u001b[39m\u001b[32m347\u001b[39m \u001b[43m_engine_run_backward\u001b[49m\u001b[43m(\u001b[49m\n\u001b[32m    348\u001b[39m \u001b[43m    \u001b[49m\u001b[43mtensors\u001b[49m\u001b[43m,\u001b[49m\n\u001b[32m    349\u001b[39m \u001b[43m    \u001b[49m\u001b[43mgrad_tensors_\u001b[49m\u001b[43m,\u001b[49m\n\u001b[32m    350\u001b[39m \u001b[43m    \u001b[49m\u001b[43mretain_graph\u001b[49m\u001b[43m,\u001b[49m\n\u001b[32m    351\u001b[39m \u001b[43m    \u001b[49m\u001b[43mcreate_graph\u001b[49m\u001b[43m,\u001b[49m\n\u001b[32m    352\u001b[39m \u001b[43m    \u001b[49m\u001b[43minputs\u001b[49m\u001b[43m,\u001b[49m\n\u001b[32m    353\u001b[39m \u001b[43m    \u001b[49m\u001b[43mallow_unreachable\u001b[49m\u001b[43m=\u001b[49m\u001b[38;5;28;43;01mTrue\u001b[39;49;00m\u001b[43m,\u001b[49m\n\u001b[32m    354\u001b[39m \u001b[43m    \u001b[49m\u001b[43maccumulate_grad\u001b[49m\u001b[43m=\u001b[49m\u001b[38;5;28;43;01mTrue\u001b[39;49;00m\u001b[43m,\u001b[49m\n\u001b[32m    355\u001b[39m \u001b[43m\u001b[49m\u001b[43m)\u001b[49m\n",
      "\u001b[36mFile \u001b[39m\u001b[32m~/miniconda3/envs/hack/lib/python3.11/site-packages/torch/autograd/graph.py:823\u001b[39m, in \u001b[36m_engine_run_backward\u001b[39m\u001b[34m(t_outputs, *args, **kwargs)\u001b[39m\n\u001b[32m    821\u001b[39m     unregister_hooks = _register_logging_hooks_on_whole_graph(t_outputs)\n\u001b[32m    822\u001b[39m \u001b[38;5;28;01mtry\u001b[39;00m:\n\u001b[32m--> \u001b[39m\u001b[32m823\u001b[39m     \u001b[38;5;28;01mreturn\u001b[39;00m \u001b[43mVariable\u001b[49m\u001b[43m.\u001b[49m\u001b[43m_execution_engine\u001b[49m\u001b[43m.\u001b[49m\u001b[43mrun_backward\u001b[49m\u001b[43m(\u001b[49m\u001b[43m  \u001b[49m\u001b[38;5;66;43;03m# Calls into the C++ engine to run the backward pass\u001b[39;49;00m\n\u001b[32m    824\u001b[39m \u001b[43m        \u001b[49m\u001b[43mt_outputs\u001b[49m\u001b[43m,\u001b[49m\u001b[43m \u001b[49m\u001b[43m*\u001b[49m\u001b[43margs\u001b[49m\u001b[43m,\u001b[49m\u001b[43m \u001b[49m\u001b[43m*\u001b[49m\u001b[43m*\u001b[49m\u001b[43mkwargs\u001b[49m\n\u001b[32m    825\u001b[39m \u001b[43m    \u001b[49m\u001b[43m)\u001b[49m  \u001b[38;5;66;03m# Calls into the C++ engine to run the backward pass\u001b[39;00m\n\u001b[32m    826\u001b[39m \u001b[38;5;28;01mfinally\u001b[39;00m:\n\u001b[32m    827\u001b[39m     \u001b[38;5;28;01mif\u001b[39;00m attach_logging_hooks:\n",
      "\u001b[31mKeyboardInterrupt\u001b[39m: "
     ]
    }
   ],
   "source": [
    "from torchvision import transforms\n",
    "from transform_configs import get_random_resized_crop_config, get_jitter_color_config\n",
    "\n",
    "DEVICE = 'cuda'\n",
    "\n",
    "\n",
    "running_loss = 0.0\n",
    "for j in range(50):\n",
    "    total_loss = 0.0\n",
    "    for i, (image, _) in enumerate(train_loader):\n",
    "        optimizer.zero_grad()\n",
    "        # step 3\n",
    "        transforms_for_victim = transforms.Compose([\n",
    "            transforms.RandomResizedCrop(size=(28, 28)),\n",
    "            transforms.ColorJitter(**get_jitter_color_config()),\n",
    "        ])\n",
    "        # step 4\n",
    "        image_for_victim = image\n",
    "        image_for_stolen = image\n",
    "        image_for_victim = image_for_victim.to(DEVICE, dtype=torch.float32)\n",
    "        image_for_stolen = image_for_stolen.to(DEVICE, dtype=torch.float32)\n",
    "        # step 5\n",
    "        output_for_stolen = stolen_model(image_for_stolen)\n",
    "        # output_for_victim = query_victim(image_for_victim)\n",
    "        output_for_victim = victim_model(image_for_victim)\n",
    "        # step 6\n",
    "        loss = loss_fn(output_for_stolen, output_for_victim)\n",
    "     #   loss.requires_grad = True\n",
    "        loss.backward()\n",
    "        optimizer.step()\n",
    "        total_loss += loss.item()\n",
    "    print(f\"Epoch {j+1}, loss: {total_loss / len(train_loader)}\")"
   ]
  },
  {
   "cell_type": "code",
   "execution_count": 13,
   "metadata": {},
   "outputs": [],
   "source": [
    "stolenn_model = torch.load('models/mnist_model.pt', weights_only=False)\n",
    "model = nn.Sequential(stolen_model, (list(stolenn_model.children())[-1]))\n",
    "model = nn.Sequential(\n",
    "    stolen_model,\n",
    "    nn.AdaptiveAvgPool2d(1),  # Redukuje wymiar do [batch_size, 512, 1, 1]\n",
    "    nn.Flatten(),  # Konwertuje do [batch_size, 512]\n",
    "    list(stolenn_model.children())[-1]   # Dodajemy warstwę z victim_model\n",
    ")"
   ]
  },
  {
   "cell_type": "code",
   "execution_count": 14,
   "metadata": {},
   "outputs": [
    {
     "name": "stdout",
     "output_type": "stream",
     "text": [
      "Accuracy: 0.9820317625999451\n"
     ]
    }
   ],
   "source": [
    "model.eval()\n",
    "num_data = 0\n",
    "total_thruts = 0\n",
    "for i, (image, label) in enumerate(train_loader):\n",
    "    num_data += image.size(0)\n",
    "    image = image.to(DEVICE, dtype=torch.float32)\n",
    "    label = label.to(DEVICE, dtype=torch.long)\n",
    "    output = model(image)\n",
    "    pred = torch.argmax(output, dim=1)\n",
    "    truths = torch.sum(pred == label)\n",
    "    total_thruts += truths\n",
    "print(f\"Accuracy: {total_thruts/num_data}\")"
   ]
  },
  {
   "cell_type": "code",
   "execution_count": null,
   "metadata": {},
   "outputs": [],
   "source": []
  }
 ],
 "metadata": {
  "kernelspec": {
   "display_name": "hack",
   "language": "python",
   "name": "python3"
  },
  "language_info": {
   "codemirror_mode": {
    "name": "ipython",
    "version": 3
   },
   "file_extension": ".py",
   "mimetype": "text/x-python",
   "name": "python",
   "nbconvert_exporter": "python",
   "pygments_lexer": "ipython3",
   "version": "3.11.11"
  }
 },
 "nbformat": 4,
 "nbformat_minor": 2
}
